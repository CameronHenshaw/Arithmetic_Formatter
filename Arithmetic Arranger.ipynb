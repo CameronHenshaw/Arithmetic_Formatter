{
 "cells": [
  {
   "cell_type": "markdown",
   "metadata": {},
   "source": [
    "# Arithmetic Formatter\n",
    "\n",
    "This project is from the freecodecamp.com course \"Scientific Computing with Python.\" Check out the readme for the exact project specifications."
   ]
  },
  {
   "cell_type": "code",
   "execution_count": 1,
   "metadata": {},
   "outputs": [],
   "source": [
    "def arithmetic_arranger(problems, answers=False):\n",
    "    split_probs = []\n",
    "    final_string = \"\"\n",
    "    count = 0\n",
    "    list_length = []\n",
    "    if len(problems) > 5:\n",
    "        return(\"Error: Too many problems.\")\n",
    "    for entry in problems:\n",
    "        splits = (entry.split()) #goes through the entries and splits them into lists\n",
    "        split_probs.append(splits) #appends new lists to splitprobs\n",
    "    for entry in split_probs: # loop goes through and looks for bad input and returns errors    \n",
    "        if entry[1] != \"-\" and entry[1] != \"+\":\n",
    "            return(\"Error: Operator must be '+' or '-'.\")\n",
    "        if (entry[0].isnumeric() == False) or (entry[2].isnumeric() == False):\n",
    "            return(\"Error: Numbers must only contain digits.\")\n",
    "        if (len(entry[0]) > 4) or (len(entry[2]) > 4):\n",
    "            return(\"Error: Numbers cannot be more than four digits.\")\n",
    "    for entry in split_probs: # loop goes through and finds longest number for each problem. adds spaces and 1st operand\n",
    "        if len(entry[0]) > len(entry[2]): # else statement finds longest operator and bases spacing on it\n",
    "            final_string += \"  \" #if entry[0] is longest, just adds two spaces\n",
    "            longest = (len(entry[0]) + 2)\n",
    "        else:\n",
    "            spaces_needed = len(entry[2]) + 2 - len(entry[0]) #calculates spaces needed if entry[1] is longest\n",
    "            final_string += \" \" * spaces_needed # adds spaces   \n",
    "            longest = (len(entry[2]) + 2)\n",
    "        list_length.append([count,longest]) #makes a short list with index and longest operand. appends to second list\n",
    "        final_string = final_string + entry[0] #adds first operand after spaces have been added\n",
    "        if split_probs.index(entry) != (len(split_probs) - 1): # adds spaces afterwards, but only if the entry isn't the last\n",
    "            final_string += (\" \" * 4)\n",
    "        count += 1\n",
    "    final_string += '\\n' # adds new line character, first line done \n",
    "    for entry in split_probs:\n",
    "        x = split_probs.index(entry) #getting index of entry\n",
    "        spaces_needed = list_length[x][1] - 1 - len(entry[2]) #using that index to retrieve the len of the longest operand\n",
    "        final_string += entry[1] + ( \" \" * spaces_needed) + entry[2] #adds second line\n",
    "        if split_probs.index(entry) != (len(split_probs) - 1):# adds spaces afterwards, but only if the entry isn't the last\n",
    "            final_string += (\" \" * 4)\n",
    "    final_string += \"\\n\"\n",
    "    for entry in split_probs: #adds dash  line\n",
    "        dash_num = list_length[split_probs.index(entry)][1] #retrieves the length of the longest operand again\n",
    "        final_string += (\"-\" * dash_num) #adds dash line\n",
    "        if split_probs.index(entry) != (len(split_probs) - 1): #adds spaces, only if entry isn't last\n",
    "            final_string += (\" \" * 4)\n",
    "    if answers == True: #checks if answers are needed\n",
    "        final_string += \"\\n\" \n",
    "        for entry in split_probs: #goes through and checks if we need to add or subtract\n",
    "            if entry[1] == \"+\":\n",
    "                response = int(entry[0]) + int(entry[2]) #calculates answer\n",
    "            else:\n",
    "                response = int(entry[0]) - int(entry[2]) #calculates answer\n",
    "            prob_length = list_length[split_probs.index(entry)][1] #gets length of longest operand\n",
    "            #if response < 0 : #checks to see if answer is negative\n",
    "                #spaces_needed = prob_length - len(str(response)) - 1 #if so, calculates length based on needing a \"-\" in the answer\n",
    "               # final_string += (\" \" * spaces_needed) + \"-\" + str(response) #adds last line\n",
    "            #else:\n",
    "            prob_length = list_length[split_probs.index(entry)][1] #calculates length if answer is positive, no \"-\" needed\n",
    "            spaces_needed = prob_length - len(str(response))\n",
    "            final_string += (\" \" * spaces_needed) + str(response) #adds last line\n",
    "            if split_probs.index(entry) != (len(split_probs) - 1): #adds spaces, only if entry isn't last\n",
    "                final_string += (\" \" * 4)\n",
    "    return(final_string)\n",
    "\n",
    "            \n"
   ]
  },
  {
   "cell_type": "code",
   "execution_count": 2,
   "metadata": {
    "scrolled": true
   },
   "outputs": [
    {
     "name": "stdout",
     "output_type": "stream",
     "text": [
      "    3      3801      45      123\n",
      "+ 855    -    2    + 43    +  49\n",
      "-----    ------    ----    -----\n",
      "Error: Too many problems.\n"
     ]
    }
   ],
   "source": [
    "print(arithmetic_arranger([\"3 + 855\", \"3801 - 2\", \"45 + 43\", \"123 + 49\"]))\n",
    "print(arithmetic_arranger([\"44 + 815\", \"909 - 2\", \"45 + 43\", \"123 + 49\", \"888 + 40\", \"653 + 87\"]))\n"
   ]
  },
  {
   "cell_type": "markdown",
   "metadata": {},
   "source": [
    "Great, first test works!\n",
    "\n",
    "Now we check to make sure we're giving the correct errors-\n",
    "First we try to add input too many problems."
   ]
  },
  {
   "cell_type": "code",
   "execution_count": 3,
   "metadata": {},
   "outputs": [
    {
     "name": "stdout",
     "output_type": "stream",
     "text": [
      "Error: Too many problems.\n"
     ]
    }
   ],
   "source": [
    "print(arithmetic_arranger([\"44 + 815\", \"909 - 2\", \"45 + 43\", \"123 + 49\", \"888 + 40\", \"653 + 87\"]))"
   ]
  },
  {
   "cell_type": "markdown",
   "metadata": {},
   "source": [
    "This is also the correct response, as too many problems were input."
   ]
  },
  {
   "cell_type": "code",
   "execution_count": 4,
   "metadata": {},
   "outputs": [
    {
     "name": "stdout",
     "output_type": "stream",
     "text": [
      "Error: Operator must be '+' or '-'.\n"
     ]
    }
   ],
   "source": [
    "print(arithmetic_arranger([\"3 / 855\", \"3801 - 2\", \"45 + 43\", \"123 + 49\"]))"
   ]
  },
  {
   "cell_type": "markdown",
   "metadata": {},
   "source": [
    "Also correct, as this code only works for addition or subtraction."
   ]
  },
  {
   "cell_type": "code",
   "execution_count": 5,
   "metadata": {},
   "outputs": [
    {
     "name": "stdout",
     "output_type": "stream",
     "text": [
      "Error: Numbers cannot be more than four digits.\n"
     ]
    }
   ],
   "source": [
    "print(arithmetic_arranger([\"24 + 85215\", \"3801 - 2\", \"45 + 43\", \"123 + 49\"]))"
   ]
  },
  {
   "cell_type": "code",
   "execution_count": 6,
   "metadata": {},
   "outputs": [
    {
     "name": "stdout",
     "output_type": "stream",
     "text": [
      "Error: Numbers must only contain digits.\n"
     ]
    }
   ],
   "source": [
    "print(arithmetic_arranger([\"98 + 3g5\", \"3801 - 2\", \"45 + 43\", \"123 + 49\"]))"
   ]
  },
  {
   "cell_type": "code",
   "execution_count": 7,
   "metadata": {},
   "outputs": [
    {
     "name": "stdout",
     "output_type": "stream",
     "text": [
      "   32         1      45      123\n",
      "- 698    - 3801    + 43    +  49\n",
      "-----    ------    ----    -----\n",
      " -666     -3800      88      172\n"
     ]
    }
   ],
   "source": [
    "print(arithmetic_arranger([\"32 - 698\", \"1 - 3801\", \"45 + 43\", \"123 + 49\"], True))"
   ]
  },
  {
   "cell_type": "markdown",
   "metadata": {},
   "source": [
    "The code works for the given specifications."
   ]
  },
  {
   "cell_type": "code",
   "execution_count": null,
   "metadata": {},
   "outputs": [],
   "source": []
  }
 ],
 "metadata": {
  "kernelspec": {
   "display_name": "Python 3",
   "language": "python",
   "name": "python3"
  },
  "language_info": {
   "codemirror_mode": {
    "name": "ipython",
    "version": 3
   },
   "file_extension": ".py",
   "mimetype": "text/x-python",
   "name": "python",
   "nbconvert_exporter": "python",
   "pygments_lexer": "ipython3",
   "version": "3.7.4"
  }
 },
 "nbformat": 4,
 "nbformat_minor": 2
}
